{
 "cells": [
  {
   "cell_type": "code",
   "execution_count": 2,
   "metadata": {},
   "outputs": [],
   "source": [
    "import pandas as pd\n",
    "from sklearn import svm\n",
    "from sklearn.model_selection import train_test_split\n",
    "from sklearn.preprocessing import StandardScaler\n",
    "import matplotlib.pyplot as plt\n",
    "from sklearn import metrics\n",
    "from sklearn.ensemble import RandomForestClassifier"
   ]
  },
  {
   "cell_type": "code",
   "execution_count": 3,
   "metadata": {},
   "outputs": [
    {
     "data": {
      "text/html": [
       "<div>\n",
       "<style scoped>\n",
       "    .dataframe tbody tr th:only-of-type {\n",
       "        vertical-align: middle;\n",
       "    }\n",
       "\n",
       "    .dataframe tbody tr th {\n",
       "        vertical-align: top;\n",
       "    }\n",
       "\n",
       "    .dataframe thead th {\n",
       "        text-align: right;\n",
       "    }\n",
       "</style>\n",
       "<table border=\"1\" class=\"dataframe\">\n",
       "  <thead>\n",
       "    <tr style=\"text-align: right;\">\n",
       "      <th></th>\n",
       "      <th>age</th>\n",
       "      <th>anaemia</th>\n",
       "      <th>creatinine_phosphokinase</th>\n",
       "      <th>diabetes</th>\n",
       "      <th>ejection_fraction</th>\n",
       "      <th>high_blood_pressure</th>\n",
       "      <th>platelets</th>\n",
       "      <th>serum_creatinine</th>\n",
       "      <th>serum_sodium</th>\n",
       "      <th>sex</th>\n",
       "      <th>smoking</th>\n",
       "      <th>time</th>\n",
       "      <th>DEATH_EVENT</th>\n",
       "    </tr>\n",
       "  </thead>\n",
       "  <tbody>\n",
       "    <tr>\n",
       "      <th>0</th>\n",
       "      <td>75.0</td>\n",
       "      <td>0</td>\n",
       "      <td>582</td>\n",
       "      <td>0</td>\n",
       "      <td>20</td>\n",
       "      <td>1</td>\n",
       "      <td>265000.00</td>\n",
       "      <td>1.9</td>\n",
       "      <td>130</td>\n",
       "      <td>1</td>\n",
       "      <td>0</td>\n",
       "      <td>4</td>\n",
       "      <td>1</td>\n",
       "    </tr>\n",
       "    <tr>\n",
       "      <th>1</th>\n",
       "      <td>55.0</td>\n",
       "      <td>0</td>\n",
       "      <td>7861</td>\n",
       "      <td>0</td>\n",
       "      <td>38</td>\n",
       "      <td>0</td>\n",
       "      <td>263358.03</td>\n",
       "      <td>1.1</td>\n",
       "      <td>136</td>\n",
       "      <td>1</td>\n",
       "      <td>0</td>\n",
       "      <td>6</td>\n",
       "      <td>1</td>\n",
       "    </tr>\n",
       "    <tr>\n",
       "      <th>2</th>\n",
       "      <td>65.0</td>\n",
       "      <td>0</td>\n",
       "      <td>146</td>\n",
       "      <td>0</td>\n",
       "      <td>20</td>\n",
       "      <td>0</td>\n",
       "      <td>162000.00</td>\n",
       "      <td>1.3</td>\n",
       "      <td>129</td>\n",
       "      <td>1</td>\n",
       "      <td>1</td>\n",
       "      <td>7</td>\n",
       "      <td>1</td>\n",
       "    </tr>\n",
       "    <tr>\n",
       "      <th>3</th>\n",
       "      <td>50.0</td>\n",
       "      <td>1</td>\n",
       "      <td>111</td>\n",
       "      <td>0</td>\n",
       "      <td>20</td>\n",
       "      <td>0</td>\n",
       "      <td>210000.00</td>\n",
       "      <td>1.9</td>\n",
       "      <td>137</td>\n",
       "      <td>1</td>\n",
       "      <td>0</td>\n",
       "      <td>7</td>\n",
       "      <td>1</td>\n",
       "    </tr>\n",
       "    <tr>\n",
       "      <th>4</th>\n",
       "      <td>65.0</td>\n",
       "      <td>1</td>\n",
       "      <td>160</td>\n",
       "      <td>1</td>\n",
       "      <td>20</td>\n",
       "      <td>0</td>\n",
       "      <td>327000.00</td>\n",
       "      <td>2.7</td>\n",
       "      <td>116</td>\n",
       "      <td>0</td>\n",
       "      <td>0</td>\n",
       "      <td>8</td>\n",
       "      <td>1</td>\n",
       "    </tr>\n",
       "  </tbody>\n",
       "</table>\n",
       "</div>"
      ],
      "text/plain": [
       "    age  anaemia  creatinine_phosphokinase  diabetes  ejection_fraction  \\\n",
       "0  75.0        0                       582         0                 20   \n",
       "1  55.0        0                      7861         0                 38   \n",
       "2  65.0        0                       146         0                 20   \n",
       "3  50.0        1                       111         0                 20   \n",
       "4  65.0        1                       160         1                 20   \n",
       "\n",
       "   high_blood_pressure  platelets  serum_creatinine  serum_sodium  sex  \\\n",
       "0                    1  265000.00               1.9           130    1   \n",
       "1                    0  263358.03               1.1           136    1   \n",
       "2                    0  162000.00               1.3           129    1   \n",
       "3                    0  210000.00               1.9           137    1   \n",
       "4                    0  327000.00               2.7           116    0   \n",
       "\n",
       "   smoking  time  DEATH_EVENT  \n",
       "0        0     4            1  \n",
       "1        0     6            1  \n",
       "2        1     7            1  \n",
       "3        0     7            1  \n",
       "4        0     8            1  "
      ]
     },
     "execution_count": 3,
     "metadata": {},
     "output_type": "execute_result"
    }
   ],
   "source": [
    "# Read the CSV file into a DataFrame\n",
    "dataFrame = pd.read_csv('heart_failure_clinical_records_dataset.csv')\n",
    "dataFrame.head()"
   ]
  },
  {
   "cell_type": "code",
   "execution_count": 4,
   "metadata": {},
   "outputs": [
    {
     "name": "stdout",
     "output_type": "stream",
     "text": [
      "<class 'pandas.core.frame.DataFrame'>\n",
      "RangeIndex: 299 entries, 0 to 298\n",
      "Data columns (total 13 columns):\n",
      " #   Column                    Non-Null Count  Dtype  \n",
      "---  ------                    --------------  -----  \n",
      " 0   age                       299 non-null    float64\n",
      " 1   anaemia                   299 non-null    int64  \n",
      " 2   creatinine_phosphokinase  299 non-null    int64  \n",
      " 3   diabetes                  299 non-null    int64  \n",
      " 4   ejection_fraction         299 non-null    int64  \n",
      " 5   high_blood_pressure       299 non-null    int64  \n",
      " 6   platelets                 299 non-null    float64\n",
      " 7   serum_creatinine          299 non-null    float64\n",
      " 8   serum_sodium              299 non-null    int64  \n",
      " 9   sex                       299 non-null    int64  \n",
      " 10  smoking                   299 non-null    int64  \n",
      " 11  time                      299 non-null    int64  \n",
      " 12  DEATH_EVENT               299 non-null    int64  \n",
      "dtypes: float64(3), int64(10)\n",
      "memory usage: 30.5 KB\n"
     ]
    }
   ],
   "source": [
    "dataFrame.info()"
   ]
  },
  {
   "cell_type": "code",
   "execution_count": 5,
   "metadata": {},
   "outputs": [
    {
     "data": {
      "text/plain": [
       "age                         0\n",
       "anaemia                     0\n",
       "creatinine_phosphokinase    0\n",
       "diabetes                    0\n",
       "ejection_fraction           0\n",
       "high_blood_pressure         0\n",
       "platelets                   0\n",
       "serum_creatinine            0\n",
       "serum_sodium                0\n",
       "sex                         0\n",
       "smoking                     0\n",
       "time                        0\n",
       "DEATH_EVENT                 0\n",
       "dtype: int64"
      ]
     },
     "execution_count": 5,
     "metadata": {},
     "output_type": "execute_result"
    }
   ],
   "source": [
    "dataFrame.isnull().sum()"
   ]
  },
  {
   "cell_type": "code",
   "execution_count": 6,
   "metadata": {},
   "outputs": [
    {
     "data": {
      "text/plain": [
       "DEATH_EVENT\n",
       "0    203\n",
       "1     96\n",
       "dtype: int64"
      ]
     },
     "execution_count": 6,
     "metadata": {},
     "output_type": "execute_result"
    }
   ],
   "source": [
    "values_count = dataFrame.pivot_table(index = ['DEATH_EVENT'], aggfunc ='size')\n",
    "values_count"
   ]
  },
  {
   "cell_type": "code",
   "execution_count": 7,
   "metadata": {},
   "outputs": [],
   "source": [
    "X=dataFrame.iloc[:,0:12]\n",
    "y=dataFrame.iloc[:,-1]"
   ]
  },
  {
   "cell_type": "code",
   "execution_count": 8,
   "metadata": {},
   "outputs": [],
   "source": [
    "sc=StandardScaler()\n",
    "X=sc.fit_transform(X)"
   ]
  },
  {
   "cell_type": "code",
   "execution_count": 9,
   "metadata": {},
   "outputs": [],
   "source": [
    "xtrain,xtest,ytrain,ytest=train_test_split(X,y,test_size=0.25,random_state=1)"
   ]
  },
  {
   "cell_type": "code",
   "execution_count": 10,
   "metadata": {},
   "outputs": [],
   "source": [
    "def SVM_MODELS_KERNELS(kernel, x_train, y_train, x_test, y_test):\n",
    "\n",
    "# Create and fit SVM model    \n",
    "    SVM_MODEL = svm.SVC(kernel=kernel) # You can change the kernel parameter to 'poly', 'rbf', etc.\n",
    "    SVM_MODEL.fit(x_train, y_train)\n",
    "\n",
    "# Make predictions\n",
    "    y_pred = SVM_MODEL.predict(x_test)\n",
    "# Evaluate accuracy\n",
    "    training_accuracy_SVM=SVM_MODEL.score(xtrain,ytrain)\n",
    "    testing_accuracy_SVM=SVM_MODEL.score(xtest,ytest)\n",
    "\n",
    "    print(f\"Triaing Accuracy {training_accuracy_SVM}\\nTesting Accuracy {testing_accuracy_SVM}\")\n",
    "\n",
    "    return training_accuracy_SVM, testing_accuracy_SVM, y_pred "
   ]
  },
  {
   "cell_type": "code",
   "execution_count": 11,
   "metadata": {},
   "outputs": [],
   "source": [
    "SVM_models_yPred = []"
   ]
  },
  {
   "cell_type": "code",
   "execution_count": 12,
   "metadata": {},
   "outputs": [
    {
     "name": "stdout",
     "output_type": "stream",
     "text": [
      "Triaing Accuracy 0.8258928571428571\n",
      "Testing Accuracy 0.8666666666666667\n"
     ]
    }
   ],
   "source": [
    "training_accuracy_LinearKernel, testing_accuracy_LinearKernel, y_pred_LinearKernel = SVM_MODELS_KERNELS(\"linear\", xtrain, ytrain, xtest, ytest)\n",
    "SVM_models_yPred.append(y_pred_LinearKernel)"
   ]
  },
  {
   "cell_type": "code",
   "execution_count": 13,
   "metadata": {},
   "outputs": [
    {
     "name": "stdout",
     "output_type": "stream",
     "text": [
      "Triaing Accuracy 0.8616071428571429\n",
      "Testing Accuracy 0.7866666666666666\n"
     ]
    }
   ],
   "source": [
    "training_accuracy_PolyKernel, testing_accuracy_PolyKernel, y_pred_PolyKernel = SVM_MODELS_KERNELS(\"poly\", xtrain, ytrain, xtest, ytest)\n",
    "SVM_models_yPred.append(y_pred_PolyKernel)"
   ]
  },
  {
   "cell_type": "code",
   "execution_count": 14,
   "metadata": {},
   "outputs": [
    {
     "name": "stdout",
     "output_type": "stream",
     "text": [
      "Triaing Accuracy 0.8883928571428571\n",
      "Testing Accuracy 0.88\n"
     ]
    }
   ],
   "source": [
    "training_accuracy_RBFKernel, testing_accuracy_RBFKernel, y_pred_RBFKernel = SVM_MODELS_KERNELS(\"rbf\", xtrain, ytrain, xtest, ytest)\n",
    "SVM_models_yPred.append(y_pred_RBFKernel)"
   ]
  },
  {
   "cell_type": "code",
   "execution_count": 15,
   "metadata": {},
   "outputs": [
    {
     "name": "stdout",
     "output_type": "stream",
     "text": [
      "Triaing Accuracy 0.78125\n",
      "Testing Accuracy 0.8266666666666667\n"
     ]
    }
   ],
   "source": [
    "training_accuracy_SigmoidKernel, testing_accuracy_SigmoidKernel, y_pred_SigmoidKernel = SVM_MODELS_KERNELS(\"sigmoid\", xtrain, ytrain, xtest, ytest)\n",
    "SVM_models_yPred.append(y_pred_SigmoidKernel)"
   ]
  },
  {
   "cell_type": "code",
   "execution_count": 16,
   "metadata": {},
   "outputs": [
    {
     "data": {
      "text/html": [
       "<div>\n",
       "<style scoped>\n",
       "    .dataframe tbody tr th:only-of-type {\n",
       "        vertical-align: middle;\n",
       "    }\n",
       "\n",
       "    .dataframe tbody tr th {\n",
       "        vertical-align: top;\n",
       "    }\n",
       "\n",
       "    .dataframe thead th {\n",
       "        text-align: right;\n",
       "    }\n",
       "</style>\n",
       "<table border=\"1\" class=\"dataframe\">\n",
       "  <thead>\n",
       "    <tr style=\"text-align: right;\">\n",
       "      <th></th>\n",
       "      <th>Models</th>\n",
       "      <th>Training_Accuracy (%)</th>\n",
       "      <th>Testing_Accuracy (%)</th>\n",
       "    </tr>\n",
       "  </thead>\n",
       "  <tbody>\n",
       "    <tr>\n",
       "      <th>0</th>\n",
       "      <td>SVM Linear Kernel</td>\n",
       "      <td>82.589286</td>\n",
       "      <td>86.666667</td>\n",
       "    </tr>\n",
       "    <tr>\n",
       "      <th>1</th>\n",
       "      <td>SVM Polynomial Kernel</td>\n",
       "      <td>86.160714</td>\n",
       "      <td>78.666667</td>\n",
       "    </tr>\n",
       "    <tr>\n",
       "      <th>2</th>\n",
       "      <td>SVM RBF Kernel</td>\n",
       "      <td>88.839286</td>\n",
       "      <td>88.000000</td>\n",
       "    </tr>\n",
       "    <tr>\n",
       "      <th>3</th>\n",
       "      <td>SVM Sigmoid Kernel</td>\n",
       "      <td>78.125000</td>\n",
       "      <td>82.666667</td>\n",
       "    </tr>\n",
       "  </tbody>\n",
       "</table>\n",
       "</div>"
      ],
      "text/plain": [
       "                  Models  Training_Accuracy (%)  Testing_Accuracy (%)\n",
       "0      SVM Linear Kernel              82.589286             86.666667\n",
       "1  SVM Polynomial Kernel              86.160714             78.666667\n",
       "2         SVM RBF Kernel              88.839286             88.000000\n",
       "3     SVM Sigmoid Kernel              78.125000             82.666667"
      ]
     },
     "execution_count": 16,
     "metadata": {},
     "output_type": "execute_result"
    }
   ],
   "source": [
    "Models={\"Models\":[\"SVM Linear Kernel\",\"SVM Polynomial Kernel\",\"SVM RBF Kernel\",\"SVM Sigmoid Kernel\"],\\\n",
    "       \"Training_Accuracy (%)\":[training_accuracy_LinearKernel*100, training_accuracy_PolyKernel*100, training_accuracy_RBFKernel*100, training_accuracy_SigmoidKernel*100],\\\n",
    "       \"Testing_Accuracy (%)\":[testing_accuracy_LinearKernel*100, testing_accuracy_PolyKernel*100, testing_accuracy_RBFKernel*100, testing_accuracy_SigmoidKernel*100]}\n",
    "\n",
    "Scores=pd.DataFrame(Models)\n",
    "Scores"
   ]
  },
  {
   "cell_type": "code",
   "execution_count": 17,
   "metadata": {},
   "outputs": [],
   "source": [
    "def confusion_Matrix(y_predicted, ytest, title):\n",
    "    \n",
    "    confusion_matrix = metrics.confusion_matrix(y_predicted, ytest)\n",
    "\n",
    "    cm_display = metrics.ConfusionMatrixDisplay(confusion_matrix = confusion_matrix, display_labels = [\"Alive\", \"Dead\"])\n",
    "\n",
    "    fig, ax = plt.subplots()\n",
    "\n",
    "    # Plot the confusion matrix using the ax parameter\n",
    "    cm_display.plot(ax=ax)\n",
    "\n",
    "    # Set a title for the plot using the set_title() method\n",
    "    ax.set_title('Confusion Matrix for ' + title)"
   ]
  },
  {
   "cell_type": "code",
   "execution_count": 18,
   "metadata": {},
   "outputs": [
    {
     "data": {
      "image/png": "[encoded data removed]",
      "text/plain": [
       "<Figure size 640x480 with 2 Axes>"
      ]
     },
     "metadata": {},
     "output_type": "display_data"
    },
    {
     "data": {
      "image/png": "[encoded data removed]",
      "text/plain": [
       "<Figure size 640x480 with 2 Axes>"
      ]
     },
     "metadata": {},
     "output_type": "display_data"
    },
    {
     "data": {
      "image/png": "[encoded data removed]",
      "text/plain": [
       "<Figure size 640x480 with 2 Axes>"
      ]
     },
     "metadata": {},
     "output_type": "display_data"
    },
    {
     "data": {
      "image/png": "[encoded data removed]",
      "text/plain": [
       "<Figure size 640x480 with 2 Axes>"
      ]
     },
     "metadata": {},
     "output_type": "display_data"
    }
   ],
   "source": [
    "titles = ['Linear Kernel', 'Polynomial Kernel', 'RBF Kernel', 'Sigmoid Kernel']\n",
    "\n",
    "zipped = zip(SVM_models_yPred, titles)\n",
    "for pair in zipped:\n",
    "    confusion_Matrix(pair[0], ytest, pair[1])\n"
   ]
  },
  {
   "cell_type": "code",
   "execution_count": 22,
   "metadata": {},
   "outputs": [],
   "source": [
    "y= dataFrame['DEATH_EVENT']\n",
    "X= dataFrame.drop(columns=\"DEATH_EVENT\",axis=1)"
   ]
  },
  {
   "cell_type": "code",
   "execution_count": 23,
   "metadata": {},
   "outputs": [
    {
     "name": "stdout",
     "output_type": "stream",
     "text": [
      "                    features  importance\n",
      "3                   diabetes    0.011359\n",
      "10                   smoking    0.012022\n",
      "1                    anaemia    0.012842\n",
      "5        high_blood_pressure    0.013394\n",
      "9                        sex    0.014768\n",
      "8               serum_sodium    0.073022\n",
      "2   creatinine_phosphokinase    0.080095\n",
      "6                  platelets    0.080436\n",
      "0                        age    0.090304\n",
      "4          ejection_fraction    0.124841\n",
      "7           serum_creatinine    0.143601\n",
      "11                      time    0.343317\n"
     ]
    },
    {
     "data": {
      "image/png": "[encoded data removed]",
      "text/plain": [
       "<Figure size 640x480 with 1 Axes>"
      ]
     },
     "metadata": {},
     "output_type": "display_data"
    }
   ],
   "source": [
    "#Random Forests feature selection\n",
    "rf = RandomForestClassifier(n_estimators=340)\n",
    "rf.fit(X, y)\n",
    "importance=rf.feature_importances_\n",
    "feature=pd.DataFrame({\"features\":pd.DataFrame(X).columns,\"importance\":importance})\n",
    "feature.set_index(\"importance\")\n",
    "feature=feature.sort_values(\"importance\")\n",
    "print(feature)\n",
    "feature.plot(kind='barh',color='teal')\n",
    "plt.show()"
   ]
  },
  {
   "cell_type": "code",
   "execution_count": 32,
   "metadata": {},
   "outputs": [],
   "source": [
    "def compare(header, training_accuracy, testing_accuracy):\n",
    "    Models={\"Models\":header,\\\n",
    "       \"Training_Accuracy (%)\":training_accuracy,\\\n",
    "       \"Testing_Accuracy (%)\":testing_accuracy}\n",
    "\n",
    "    return pd.DataFrame(Models)\n"
   ]
  },
  {
   "attachments": {},
   "cell_type": "markdown",
   "metadata": {},
   "source": [
    "### Split data & cross validation on time ,serum ceratinine, ejection fraction"
   ]
  },
  {
   "cell_type": "code",
   "execution_count": 33,
   "metadata": {},
   "outputs": [],
   "source": [
    "new_data= dataFrame[['time','serum_creatinine','ejection_fraction']]\n",
    "\n",
    "xtrain_reduced,xtest_reduced,ytrain_reduced,ytest_reduced=train_test_split(new_data,y,test_size=0.25,random_state=1)"
   ]
  },
  {
   "cell_type": "code",
   "execution_count": 34,
   "metadata": {},
   "outputs": [
    {
     "name": "stdout",
     "output_type": "stream",
     "text": [
      "Triaing Accuracy 0.8258928571428571\n",
      "Testing Accuracy 0.8533333333333334\n"
     ]
    },
    {
     "data": {
      "text/html": [
       "<div>\n",
       "<style scoped>\n",
       "    .dataframe tbody tr th:only-of-type {\n",
       "        vertical-align: middle;\n",
       "    }\n",
       "\n",
       "    .dataframe tbody tr th {\n",
       "        vertical-align: top;\n",
       "    }\n",
       "\n",
       "    .dataframe thead th {\n",
       "        text-align: right;\n",
       "    }\n",
       "</style>\n",
       "<table border=\"1\" class=\"dataframe\">\n",
       "  <thead>\n",
       "    <tr style=\"text-align: right;\">\n",
       "      <th></th>\n",
       "      <th>Models</th>\n",
       "      <th>Training_Accuracy (%)</th>\n",
       "      <th>Testing_Accuracy (%)</th>\n",
       "    </tr>\n",
       "  </thead>\n",
       "  <tbody>\n",
       "    <tr>\n",
       "      <th>0</th>\n",
       "      <td>Whole Data Linear Kernel</td>\n",
       "      <td>0.825893</td>\n",
       "      <td>0.866667</td>\n",
       "    </tr>\n",
       "    <tr>\n",
       "      <th>1</th>\n",
       "      <td>Feature Reduction Data Linear Kernel</td>\n",
       "      <td>0.825893</td>\n",
       "      <td>0.853333</td>\n",
       "    </tr>\n",
       "  </tbody>\n",
       "</table>\n",
       "</div>"
      ],
      "text/plain": [
       "                                 Models  Training_Accuracy (%)  \\\n",
       "0              Whole Data Linear Kernel               0.825893   \n",
       "1  Feature Reduction Data Linear Kernel               0.825893   \n",
       "\n",
       "   Testing_Accuracy (%)  \n",
       "0              0.866667  \n",
       "1              0.853333  "
      ]
     },
     "execution_count": 34,
     "metadata": {},
     "output_type": "execute_result"
    }
   ],
   "source": [
    "training_accuracy_LinearKernel_Feature_Reduction, testing_accuracy_LinearKernel_Feature_Reduction, y_pred_LinearKernel_Feature_Reduction = SVM_MODELS_KERNELS('linear',xtrain_reduced, ytrain_reduced, xtest_reduced, ytest_reduced)\n",
    "\n",
    "header = ['Whole Data Linear Kernel', 'Feature Reduction Data Linear Kernel']\n",
    "\n",
    "training_accuracies = [training_accuracy_LinearKernel, training_accuracy_LinearKernel_Feature_Reduction]\n",
    "\n",
    "testing_accuracies = [testing_accuracy_LinearKernel, testing_accuracy_LinearKernel_Feature_Reduction]\n",
    "\n",
    "table = compare(header, training_accuracies, testing_accuracies)\n",
    "\n",
    "table"
   ]
  },
  {
   "cell_type": "code",
   "execution_count": 35,
   "metadata": {},
   "outputs": [
    {
     "name": "stdout",
     "output_type": "stream",
     "text": [
      "Triaing Accuracy 0.7901785714285714\n",
      "Testing Accuracy 0.76\n"
     ]
    },
    {
     "data": {
      "text/html": [
       "<div>\n",
       "<style scoped>\n",
       "    .dataframe tbody tr th:only-of-type {\n",
       "        vertical-align: middle;\n",
       "    }\n",
       "\n",
       "    .dataframe tbody tr th {\n",
       "        vertical-align: top;\n",
       "    }\n",
       "\n",
       "    .dataframe thead th {\n",
       "        text-align: right;\n",
       "    }\n",
       "</style>\n",
       "<table border=\"1\" class=\"dataframe\">\n",
       "  <thead>\n",
       "    <tr style=\"text-align: right;\">\n",
       "      <th></th>\n",
       "      <th>Models</th>\n",
       "      <th>Training_Accuracy (%)</th>\n",
       "      <th>Testing_Accuracy (%)</th>\n",
       "    </tr>\n",
       "  </thead>\n",
       "  <tbody>\n",
       "    <tr>\n",
       "      <th>0</th>\n",
       "      <td>Whole Data Polynomial Kernel</td>\n",
       "      <td>0.861607</td>\n",
       "      <td>0.786667</td>\n",
       "    </tr>\n",
       "    <tr>\n",
       "      <th>1</th>\n",
       "      <td>Feature Reduction Data Polynomial Kernel</td>\n",
       "      <td>0.790179</td>\n",
       "      <td>0.760000</td>\n",
       "    </tr>\n",
       "  </tbody>\n",
       "</table>\n",
       "</div>"
      ],
      "text/plain": [
       "                                     Models  Training_Accuracy (%)  \\\n",
       "0              Whole Data Polynomial Kernel               0.861607   \n",
       "1  Feature Reduction Data Polynomial Kernel               0.790179   \n",
       "\n",
       "   Testing_Accuracy (%)  \n",
       "0              0.786667  \n",
       "1              0.760000  "
      ]
     },
     "execution_count": 35,
     "metadata": {},
     "output_type": "execute_result"
    }
   ],
   "source": [
    "training_accuracy_PolyKernel_Feature_Reduction, testing_accuracy_PolyKernel_Feature_Reduction, y_pred_PolyKernel_Feature_Reduction = SVM_MODELS_KERNELS('poly',xtrain_reduced, ytrain_reduced, xtest_reduced, ytest_reduced)\n",
    "\n",
    "header = ['Whole Data Polynomial Kernel', 'Feature Reduction Data Polynomial Kernel']\n",
    "\n",
    "training_accuracies = [training_accuracy_PolyKernel, training_accuracy_PolyKernel_Feature_Reduction]\n",
    "\n",
    "testing_accuracies = [testing_accuracy_PolyKernel, testing_accuracy_PolyKernel_Feature_Reduction]\n",
    "\n",
    "table = compare(header, training_accuracies, testing_accuracies)\n",
    "\n",
    "table"
   ]
  },
  {
   "cell_type": "code",
   "execution_count": 36,
   "metadata": {},
   "outputs": [
    {
     "name": "stdout",
     "output_type": "stream",
     "text": [
      "Triaing Accuracy 0.7901785714285714\n",
      "Testing Accuracy 0.76\n"
     ]
    },
    {
     "data": {
      "text/html": [
       "<div>\n",
       "<style scoped>\n",
       "    .dataframe tbody tr th:only-of-type {\n",
       "        vertical-align: middle;\n",
       "    }\n",
       "\n",
       "    .dataframe tbody tr th {\n",
       "        vertical-align: top;\n",
       "    }\n",
       "\n",
       "    .dataframe thead th {\n",
       "        text-align: right;\n",
       "    }\n",
       "</style>\n",
       "<table border=\"1\" class=\"dataframe\">\n",
       "  <thead>\n",
       "    <tr style=\"text-align: right;\">\n",
       "      <th></th>\n",
       "      <th>Models</th>\n",
       "      <th>Training_Accuracy (%)</th>\n",
       "      <th>Testing_Accuracy (%)</th>\n",
       "    </tr>\n",
       "  </thead>\n",
       "  <tbody>\n",
       "    <tr>\n",
       "      <th>0</th>\n",
       "      <td>Whole Data RBF Kernel</td>\n",
       "      <td>0.888393</td>\n",
       "      <td>0.88</td>\n",
       "    </tr>\n",
       "    <tr>\n",
       "      <th>1</th>\n",
       "      <td>Feature Reduction Data RBF Kernel</td>\n",
       "      <td>0.790179</td>\n",
       "      <td>0.76</td>\n",
       "    </tr>\n",
       "  </tbody>\n",
       "</table>\n",
       "</div>"
      ],
      "text/plain": [
       "                              Models  Training_Accuracy (%)  \\\n",
       "0              Whole Data RBF Kernel               0.888393   \n",
       "1  Feature Reduction Data RBF Kernel               0.790179   \n",
       "\n",
       "   Testing_Accuracy (%)  \n",
       "0                  0.88  \n",
       "1                  0.76  "
      ]
     },
     "execution_count": 36,
     "metadata": {},
     "output_type": "execute_result"
    }
   ],
   "source": [
    "training_accuracy_RBFKernel_Feature_Reduction, testing_accuracy_RBFKernel_Feature_Reduction, y_pred_RBFKernel_Feature_Reduction = SVM_MODELS_KERNELS('poly',xtrain_reduced, ytrain_reduced, xtest_reduced, ytest_reduced)\n",
    "\n",
    "header = ['Whole Data RBF Kernel', 'Feature Reduction Data RBF Kernel']\n",
    "\n",
    "training_accuracies = [training_accuracy_RBFKernel, training_accuracy_RBFKernel_Feature_Reduction]\n",
    "\n",
    "testing_accuracies = [testing_accuracy_RBFKernel, testing_accuracy_RBFKernel_Feature_Reduction]\n",
    "\n",
    "table = compare(header, training_accuracies, testing_accuracies)\n",
    "\n",
    "table"
   ]
  },
  {
   "cell_type": "code",
   "execution_count": 37,
   "metadata": {},
   "outputs": [
    {
     "name": "stdout",
     "output_type": "stream",
     "text": [
      "Triaing Accuracy 0.7901785714285714\n",
      "Testing Accuracy 0.76\n"
     ]
    },
    {
     "data": {
      "text/html": [
       "<div>\n",
       "<style scoped>\n",
       "    .dataframe tbody tr th:only-of-type {\n",
       "        vertical-align: middle;\n",
       "    }\n",
       "\n",
       "    .dataframe tbody tr th {\n",
       "        vertical-align: top;\n",
       "    }\n",
       "\n",
       "    .dataframe thead th {\n",
       "        text-align: right;\n",
       "    }\n",
       "</style>\n",
       "<table border=\"1\" class=\"dataframe\">\n",
       "  <thead>\n",
       "    <tr style=\"text-align: right;\">\n",
       "      <th></th>\n",
       "      <th>Models</th>\n",
       "      <th>Training_Accuracy (%)</th>\n",
       "      <th>Testing_Accuracy (%)</th>\n",
       "    </tr>\n",
       "  </thead>\n",
       "  <tbody>\n",
       "    <tr>\n",
       "      <th>0</th>\n",
       "      <td>Whole Data Sigmoid Kernel</td>\n",
       "      <td>0.781250</td>\n",
       "      <td>0.826667</td>\n",
       "    </tr>\n",
       "    <tr>\n",
       "      <th>1</th>\n",
       "      <td>Feature Reduction Data Sigmoid Kernel</td>\n",
       "      <td>0.790179</td>\n",
       "      <td>0.760000</td>\n",
       "    </tr>\n",
       "  </tbody>\n",
       "</table>\n",
       "</div>"
      ],
      "text/plain": [
       "                                  Models  Training_Accuracy (%)  \\\n",
       "0              Whole Data Sigmoid Kernel               0.781250   \n",
       "1  Feature Reduction Data Sigmoid Kernel               0.790179   \n",
       "\n",
       "   Testing_Accuracy (%)  \n",
       "0              0.826667  \n",
       "1              0.760000  "
      ]
     },
     "execution_count": 37,
     "metadata": {},
     "output_type": "execute_result"
    }
   ],
   "source": [
    "training_accuracy_SigmoidKernel_Feature_Reduction, testing_accuracy_SigmoidKernel_Feature_Reduction, y_pred_SigmoidKernel_Feature_Reduction = SVM_MODELS_KERNELS('poly',xtrain_reduced, ytrain_reduced, xtest_reduced, ytest_reduced)\n",
    "\n",
    "header = ['Whole Data Sigmoid Kernel', 'Feature Reduction Data Sigmoid Kernel']\n",
    "\n",
    "training_accuracies = [training_accuracy_SigmoidKernel, training_accuracy_SigmoidKernel_Feature_Reduction]\n",
    "\n",
    "testing_accuracies = [testing_accuracy_SigmoidKernel, testing_accuracy_SigmoidKernel_Feature_Reduction]\n",
    "\n",
    "table = compare(header, training_accuracies, testing_accuracies)\n",
    "\n",
    "table"
   ]
  },
  {
   "cell_type": "code",
   "execution_count": null,
   "metadata": {},
   "outputs": [],
   "source": []
  }
 ],
 "metadata": {
  "kernelspec": {
   "display_name": "Python 3",
   "language": "python",
   "name": "python3"
  },
  "language_info": {
   "codemirror_mode": {
    "name": "ipython",
    "version": 3
   },
   "file_extension": ".py",
   "mimetype": "text/x-python",
   "name": "python",
   "nbconvert_exporter": "python",
   "pygments_lexer": "ipython3",
   "version": "3.10.9"
  },
  "orig_nbformat": 4,
  "vscode": {
   "interpreter": {
    "hash": "369f2c481f4da34e4445cda3fffd2e751bd1c4d706f27375911949ba6bb62e1c"
   }
  }
 },
 "nbformat": 4,
 "nbformat_minor": 2
}
